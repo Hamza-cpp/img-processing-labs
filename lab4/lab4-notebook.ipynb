{
 "cells": [
  {
   "cell_type": "markdown",
   "metadata": {},
   "source": [
    "### 1. Manual thresholding"
   ]
  },
  {
   "cell_type": "markdown",
   "metadata": {},
   "source": [
    "#### 1.1) Let's study the grayscale distribution of the `muscle.bmp` image. What do you notice?"
   ]
  },
  {
   "cell_type": "code",
   "execution_count": 1,
   "metadata": {},
   "outputs": [
    {
     "name": "stdout",
     "output_type": "stream",
     "text": [
      "Image shape: (800, 800)\n",
      "Image size: 625.0 KB\n",
      "Image dtype: uint8\n",
      "Image Matrix:\n",
      " [[210 210 210 ... 210 210 210]\n",
      " [210 210 210 ... 210 210 210]\n",
      " [210 210 210 ... 210 210 210]\n",
      " ...\n",
      " [210 210 210 ... 210 210 210]\n",
      " [210 210 210 ... 210 210 210]\n",
      " [210 210 210 ... 210 210 210]] \n",
      "\n"
     ]
    },
    {
     "name": "stderr",
     "output_type": "stream",
     "text": [
      "qt.qpa.plugin: Could not find the Qt platform plugin \"wayland\" in \"/home/hamza_ok/img-processing-labs/.venv/lib/python3.10/site-packages/cv2/qt/plugins\"\n"
     ]
    }
   ],
   "source": [
    "import cv2\n",
    "import PIL.Image as Image\n",
    "\n",
    "img_path = \"ressources/gray_disc.png\"\n",
    "\n",
    "img = cv2.imread(img_path, cv2.IMREAD_GRAYSCALE)\n",
    "\n",
    "print(\"Image shape:\", img.shape)\n",
    "print(\"Image size:\", img.size / 1024, \"KB\")\n",
    "print(\"Image dtype:\", img.dtype)\n",
    "print(\"Image Matrix:\\n\", img, \"\\n\")\n",
    "\n",
    "cv2.imshow(\"Gray Disc Image\", img)\n",
    "cv2.waitKey(0)\n",
    "cv2.destroyAllWindows()\n",
    "\n",
    "# Image.fromarray(img).show()"
   ]
  },
  {
   "cell_type": "markdown",
   "metadata": {},
   "source": [
    "#### 1.2) Deduce a threshold to separate the two types of cells (black and white) and apply it."
   ]
  },
  {
   "cell_type": "code",
   "execution_count": 2,
   "metadata": {},
   "outputs": [
    {
     "name": "stdout",
     "output_type": "stream",
     "text": [
      "Kernel h1:\n",
      " [[0.04 0.04 0.04 0.04 0.04]\n",
      " [0.04 0.04 0.04 0.04 0.04]\n",
      " [0.04 0.04 0.04 0.04 0.04]\n",
      " [0.04 0.04 0.04 0.04 0.04]\n",
      " [0.04 0.04 0.04 0.04 0.04]] \n",
      "Kernel h1 dtype:  float32 \n",
      "\n",
      "Kernel h2:\n",
      " [[0.00826446 0.00826446 0.00826446 0.00826446 0.00826446 0.00826446\n",
      "  0.00826446 0.00826446 0.00826446 0.00826446 0.00826446]\n",
      " [0.00826446 0.00826446 0.00826446 0.00826446 0.00826446 0.00826446\n",
      "  0.00826446 0.00826446 0.00826446 0.00826446 0.00826446]\n",
      " [0.00826446 0.00826446 0.00826446 0.00826446 0.00826446 0.00826446\n",
      "  0.00826446 0.00826446 0.00826446 0.00826446 0.00826446]\n",
      " [0.00826446 0.00826446 0.00826446 0.00826446 0.00826446 0.00826446\n",
      "  0.00826446 0.00826446 0.00826446 0.00826446 0.00826446]\n",
      " [0.00826446 0.00826446 0.00826446 0.00826446 0.00826446 0.00826446\n",
      "  0.00826446 0.00826446 0.00826446 0.00826446 0.00826446]\n",
      " [0.00826446 0.00826446 0.00826446 0.00826446 0.00826446 0.00826446\n",
      "  0.00826446 0.00826446 0.00826446 0.00826446 0.00826446]\n",
      " [0.00826446 0.00826446 0.00826446 0.00826446 0.00826446 0.00826446\n",
      "  0.00826446 0.00826446 0.00826446 0.00826446 0.00826446]\n",
      " [0.00826446 0.00826446 0.00826446 0.00826446 0.00826446 0.00826446\n",
      "  0.00826446 0.00826446 0.00826446 0.00826446 0.00826446]\n",
      " [0.00826446 0.00826446 0.00826446 0.00826446 0.00826446 0.00826446\n",
      "  0.00826446 0.00826446 0.00826446 0.00826446 0.00826446]\n",
      " [0.00826446 0.00826446 0.00826446 0.00826446 0.00826446 0.00826446\n",
      "  0.00826446 0.00826446 0.00826446 0.00826446 0.00826446]\n",
      " [0.00826446 0.00826446 0.00826446 0.00826446 0.00826446 0.00826446\n",
      "  0.00826446 0.00826446 0.00826446 0.00826446 0.00826446]] \n",
      "Kernel h2 dtype:  float32 \n",
      "\n"
     ]
    }
   ],
   "source": [
    "import numpy as np\n",
    "\n",
    "h1 = np.ones((5, 5), np.float32) / (5 * 5)\n",
    "h2 = np.ones((11, 11), np.float32) / (11 * 11)\n",
    "print(\"Kernel h1:\\n\", h1, \"\\nKernel h1 dtype: \", h1.dtype, \"\\n\")\n",
    "print(\"Kernel h2:\\n\", h2, \"\\nKernel h2 dtype: \", h2.dtype, \"\\n\")\n",
    "\n",
    "h1_img = cv2.filter2D(src=img, kernel=h1, ddepth=-1)\n",
    "h2_img = cv2.filter2D(src=img, kernel=h2, ddepth=-1)\n",
    "\n",
    "cv2.imshow(\"h1\", h1_img)\n",
    "cv2.imshow(\"h2\", h2_img)\n",
    "cv2.waitKey(0)\n",
    "cv2.destroyAllWindows()"
   ]
  },
  {
   "cell_type": "markdown",
   "metadata": {},
   "source": [
    "#### 1.3) Segment the image with this visually chosen threshold and visualize the result. What do you notice?"
   ]
  },
  {
   "cell_type": "markdown",
   "metadata": {},
   "source": [
    "### 2. Gaussian thresholding"
   ]
  },
  {
   "cell_type": "code",
   "execution_count": null,
   "metadata": {},
   "outputs": [],
   "source": []
  },
  {
   "cell_type": "markdown",
   "metadata": {},
   "source": [
    "#### 2.1) ***Read this:*** If we analyze well the obtained histogram, we can notice that this one is formed by three Gaussians. A large Gaussian on the left, a smaller one in the middle, and a small one on the right. In image processing and analysis, the modeling of the histogram by Gaussian has the objective of representing the distribution of gray levels in terms of Gaussian parameters. This method consists of approximating the histogram of the image by a combination of Gaussian functions for segmentation, object detection, or pattern recognition."
   ]
  },
  {
   "cell_type": "code",
   "execution_count": null,
   "metadata": {},
   "outputs": [],
   "source": []
  },
  {
   "cell_type": "markdown",
   "metadata": {},
   "source": [
    "#### 2.2) Write a function that calculates the characteristics of a Gaussian: A (Amplitude), m (mean), sigma (standard deviation). The sigma is defined by:\n",
    "$$\n",
    "sigma = \\frac{\\text{mean} - \\text{index\\_half\\_nv}}{\\sqrt{2 \\log(2)}}\n",
    "$$\n",
    "where `index_half_nv` refers to the gray level whose number of pixels is equal to half the number of maximum pixels in the histogram (see illustration).\n",
    "![illustration](./ressources%20/illustration_gaussienne.png)"
   ]
  },
  {
   "cell_type": "code",
   "execution_count": null,
   "metadata": {},
   "outputs": [],
   "source": []
  },
  {
   "cell_type": "markdown",
   "metadata": {},
   "source": [
    "#### 2.3) Determine the characteristics of the Gaussian using the function from the previous question."
   ]
  },
  {
   "cell_type": "code",
   "execution_count": null,
   "metadata": {},
   "outputs": [],
   "source": []
  },
  {
   "cell_type": "markdown",
   "metadata": {},
   "source": [
    "#### 2.4) Compute and visualize the Gaussian for the gray levels [0, 255] using the features calculated in the previous question in the following formula:\n",
    "   $$\n",
    "   G(nv) = A \\exp\\left(-\\frac{(nv - m)^2}{ 2 \\text{sigma} ^2}\\right)\n",
    "   $$\n",
    "   where `nv` represents the gray level in range [0, 255]."
   ]
  },
  {
   "cell_type": "code",
   "execution_count": null,
   "metadata": {},
   "outputs": [],
   "source": []
  },
  {
   "cell_type": "markdown",
   "metadata": {},
   "source": [
    "#### 2.5) To which part of the histogram does this Gaussian correspond?"
   ]
  },
  {
   "cell_type": "code",
   "execution_count": null,
   "metadata": {},
   "outputs": [],
   "source": []
  },
  {
   "cell_type": "markdown",
   "metadata": {},
   "source": [
    "#### 2.6) Extract the second part (`h2`) of the histogram."
   ]
  },
  {
   "cell_type": "code",
   "execution_count": null,
   "metadata": {},
   "outputs": [],
   "source": []
  },
  {
   "cell_type": "markdown",
   "metadata": {},
   "source": [
    "#### 2.7) Determine the characteristics of the Gaussian associated with `h2`."
   ]
  },
  {
   "cell_type": "markdown",
   "metadata": {},
   "source": [
    "#### 2.8) Compute and visualize the Gaussian for the gray levels [0, 255] using the features calculated in the previous question in the following formula:\n",
    "   $$\n",
    "   G2(nv) = A2 \\exp\\left(-\\frac{(nv - m2)^2}{2\\text{sigma2}^2}\\right)\n",
    "   $$\n",
    "   where `nv` represents the gray level interval.\n"
   ]
  },
  {
   "cell_type": "code",
   "execution_count": null,
   "metadata": {},
   "outputs": [],
   "source": []
  },
  {
   "cell_type": "markdown",
   "metadata": {},
   "source": [
    "#### 2.9) Display the initial histogram of the image and the two modeled Gaussians \\(G1\\) and \\(G2\\) on the same graph. What do you notice?"
   ]
  },
  {
   "cell_type": "code",
   "execution_count": null,
   "metadata": {},
   "outputs": [],
   "source": []
  },
  {
   "cell_type": "markdown",
   "metadata": {},
   "source": [
    "#### 2.10) By comparing the characteristics of the two Gaussian distributions that fit our histogram, how can we determine an automatic threshold? Write the algorithm allowing you to determine this threshold in sentences."
   ]
  },
  {
   "cell_type": "markdown",
   "metadata": {},
   "source": [
    "#### 2.11) Code the algorithm you wrote in the previous question as a function named `Gaussian_thresholding`, which takes as parameter a histogram and returns the optimal threshold based on the parameters of the Gaussians constituting the histogram."
   ]
  },
  {
   "cell_type": "markdown",
   "metadata": {},
   "source": [
    "#### 2.12) Threshold the image with the automatically calculated threshold and visualize the result."
   ]
  },
  {
   "cell_type": "markdown",
   "metadata": {},
   "source": [
    "### 3. Color Image thresholding"
   ]
  },
  {
   "cell_type": "markdown",
   "metadata": {},
   "source": [
    "#### 3.1) Load the `2CV.tif` image and check its shape attribute."
   ]
  },
  {
   "cell_type": "markdown",
   "metadata": {},
   "source": [
    "#### 3.2) Compute and visualize (side-by-side in the same figure) the histograms of the **R**, **G**, **B** components of the image."
   ]
  },
  {
   "cell_type": "markdown",
   "metadata": {},
   "source": [
    "#### 3.3) For your general knowledge: How many colors can such an image store?"
   ]
  },
  {
   "cell_type": "markdown",
   "metadata": {},
   "source": [
    "#### 3.4) What is the color of the car? On which component could you apply a visually selected threshold to separate the car from its environment?"
   ]
  },
  {
   "cell_type": "markdown",
   "metadata": {},
   "source": [
    "#### 3.5) Apply a threshold deduced from the histogram of the component you have chosen and view the result (the binary image obtained)."
   ]
  },
  {
   "cell_type": "markdown",
   "metadata": {},
   "source": [
    "#### 3.6) What do you notice and why?"
   ]
  },
  {
   "cell_type": "markdown",
   "metadata": {},
   "source": [
    "#### 3.7) Now apply thresholding on the red component and see the result. What do you notice?"
   ]
  },
  {
   "cell_type": "markdown",
   "metadata": {},
   "source": [
    "#### 3.8) Based on the result of the previous question, what processing could you do to select only the car?"
   ]
  },
  {
   "cell_type": "markdown",
   "metadata": {},
   "source": [
    "#### 3.9) Try to change the colors of the Chevrolet to red and black and blue and green in the original image. Can the result be improved?"
   ]
  }
 ],
 "metadata": {
  "kernelspec": {
   "display_name": ".venv",
   "language": "python",
   "name": "python3"
  },
  "language_info": {
   "codemirror_mode": {
    "name": "ipython",
    "version": 3
   },
   "file_extension": ".py",
   "mimetype": "text/x-python",
   "name": "python",
   "nbconvert_exporter": "python",
   "pygments_lexer": "ipython3",
   "version": "3.10.12"
  }
 },
 "nbformat": 4,
 "nbformat_minor": 2
}
