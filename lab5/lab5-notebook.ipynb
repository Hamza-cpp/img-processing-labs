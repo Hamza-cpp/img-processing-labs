{
 "cells": [
  {
   "cell_type": "markdown",
   "metadata": {},
   "source": [
    "## Image Segmentation using Region Growing Algorithm\n",
    "---------------------------------------------"
   ]
  },
  {
   "cell_type": "markdown",
   "metadata": {},
   "source": [
    "#### What is Region Growing Algorithm?\n",
    "\n",
    "> *Region growing is a simple region-based image segmentation method. It is also classified as a pixel-based image segmentation method since it involves the selection of initial seed points* [[Wiki]](https://en.wikipedia.org/wiki/Region_growing#:~:text=of%20image%20segmentation.-,Region%20Growing%20Technique,strategically%20positioned%20within%20the%20image.)."
   ]
  },
  {
   "cell_type": "markdown",
   "metadata": {},
   "source": [
    "#### How does it work?\n",
    "\n",
    "The algorithm is composed of two steps:\n",
    "\n",
    "##### Step 1: Find the starting points of the regions\n",
    "\n",
    "* Choose the starting points in the most homogeneous areas possible.\n",
    "* Compute the standard deviation of each of the dimensions of color space for a colored image or just in one dimension if grayscale image.\n",
    "* Recursively divide the quarter until the created quarters are big enough.\n",
    "* Choose the center of the biggest blocks as the starting points.\n",
    "\n",
    "##### Step 2: Growth of the regions\n",
    "\n",
    "* Enlarge a region by agglomerating neighboring pixels.\n",
    "* Choose pixels that maintain the homogeneity of the region.\n",
    "* Define a homogeneity indicator.\n",
    "* Add neighboring pixels to the region if the homogeneity indicator remains true.\n",
    "* Stop the growth when no more pixels can be added without breaking the homogeneity."
   ]
  },
  {
   "cell_type": "markdown",
   "metadata": {},
   "source": [
    "### Pseudocode for the Growth Algorithm\n",
    "\n",
    "#### Growth Algorithm\n",
    "\n",
    "The growth algorithm is an iterative process:\n",
    "\n",
    "1. **Initialize the List of Starting Points**\n",
    "   - Create the list `[S]` of starting points (sorted to have the center of the largest blocks first).\n",
    "\n",
    "2. **Iterate Over Each Pixel in the List `[S]`**\n",
    "   - For each pixel `P` in the list `[S]`:\n",
    "     - If pixel `P` is already associated with a region, then take the next pixel `P` in the list `[S]`.\n",
    "     - Otherwise:\n",
    "       1. **Create a New Region**\n",
    "          - Create a new region `[R]`.\n",
    "       2. **Add Pixel to the Region**\n",
    "          - Add pixel `P` to the region `[R]`.\n",
    "       3. **Calculate the Average Value/Color of `[R]`**\n",
    "       4. **Create the List `[N]` of Neighboring Pixels of Pixel `P`**\n",
    "       5. **Iterate Over Each Pixel `Pn` in the List `[N]`**\n",
    "          - For each pixel `Pn` in the list `[N]`:\n",
    "            - If `Pn` is not associated with a region and `[R] + Pn` is homogeneous, then:\n",
    "              1. **Add the Pixel to the Region**\n",
    "                 - Add the pixel `Pn` to the region `[R]`.\n",
    "              2. **Add Neighboring Pixels of `Pn` to the List `[N]`**\n",
    "              3. **Recalculate the Average Value/Color of `[R]`**\n",
    "\n",
    "#### Homogeneity Indicator\n",
    "\n",
    "The homogeneity indicator can be constructed from the similarity measures:\n",
    "\n",
    "- **Indicator**: \n",
    "  - `true` if `Homogeneity(R) <= THRESHOLD`\n",
    "  - `false` otherwise.\n",
    "\n",
    "- **Homogeneity Calculation**:\n",
    "  - `Homogeneity(R) = Variance(pixels of R)`"
   ]
  },
  {
   "cell_type": "markdown",
   "metadata": {},
   "source": [
    "### Implementation Task\n",
    "\n",
    "Implement the Region Growing Algorithm to work on the **grayscale** version of the proposed image (located in `ressources`) and then on the **RGB** version."
   ]
  }
 ],
 "metadata": {
  "kernelspec": {
   "display_name": ".venv",
   "language": "python",
   "name": "python3"
  },
  "language_info": {
   "codemirror_mode": {
    "name": "ipython",
    "version": 3
   },
   "file_extension": ".py",
   "mimetype": "text/x-python",
   "name": "python",
   "nbconvert_exporter": "python",
   "pygments_lexer": "ipython3",
   "version": "3.10.12"
  }
 },
 "nbformat": 4,
 "nbformat_minor": 2
}
